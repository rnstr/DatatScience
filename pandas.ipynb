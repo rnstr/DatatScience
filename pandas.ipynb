{
 "cells": [
  {
   "cell_type": "markdown",
   "id": "a650f6c9",
   "metadata": {},
   "source": [
    "### Pandas"
   ]
  },
  {
   "cell_type": "code",
   "execution_count": 1,
   "id": "7382a615",
   "metadata": {},
   "outputs": [],
   "source": [
    "import pandas as pd"
   ]
  },
  {
   "cell_type": "code",
   "execution_count": 2,
   "id": "51bca4ed",
   "metadata": {},
   "outputs": [
    {
     "name": "stdout",
     "output_type": "stream",
     "text": [
      "2\n",
      "   apel\n",
      "1     3\n",
      "2     2\n",
      "3     0\n",
      "4     2\n",
      "   apel  jeruk\n",
      "0     5      1\n",
      "1     4      2\n",
      "2     3      3\n",
      "3     2      4\n",
      "4     1      5\n"
     ]
    }
   ],
   "source": [
    "# Series\n",
    "apel = pd.Series([5,2,0,1])\n",
    "print(apel[1])\n",
    "\n",
    "# DataFrame\n",
    "dfApel = pd.DataFrame([3,2,0,2], columns=['apel'], index = [1,2,3,4])\n",
    "print(dfApel)\n",
    "\n",
    "#DataFrame 2 kolom\n",
    "dict1 = { 'apel' : [5,4,3,2,1], 'jeruk' : [1,2,3,4,5]}\n",
    "df1 = pd.DataFrame(dict1)\n",
    "print(df1)\n"
   ]
  },
  {
   "cell_type": "code",
   "execution_count": 3,
   "id": "847fcb89",
   "metadata": {},
   "outputs": [
    {
     "name": "stdout",
     "output_type": "stream",
     "text": [
      "apel     5\n",
      "jeruk    5\n",
      "dtype: int64\n",
      "apel     15\n",
      "jeruk    15\n",
      "dtype: int64\n",
      "           apel     jeruk\n",
      "count  5.000000  5.000000\n",
      "mean   3.000000  3.000000\n",
      "std    1.581139  1.581139\n",
      "min    1.000000  1.000000\n",
      "25%    2.000000  2.000000\n",
      "50%    3.000000  3.000000\n",
      "75%    4.000000  4.000000\n",
      "max    5.000000  5.000000\n"
     ]
    }
   ],
   "source": [
    "# menghitung jumlah data\n",
    "print(df1.count())\n",
    "\n",
    "#menjumlahkan total data\n",
    "print(df1.sum())\n",
    "\n",
    "#statstistik singkat\n",
    "print(df1.describe())\n"
   ]
  },
  {
   "cell_type": "code",
   "execution_count": null,
   "id": "da4145d2",
   "metadata": {},
   "outputs": [],
   "source": []
  },
  {
   "cell_type": "code",
   "execution_count": 4,
   "id": "5a78ee91",
   "metadata": {},
   "outputs": [
    {
     "name": "stdout",
     "output_type": "stream",
     "text": [
      "0    5\n",
      "1    4\n",
      "2    3\n",
      "3    2\n",
      "4    1\n",
      "Name: apel, dtype: int64\n",
      "   jeruk  apel\n",
      "0      1     5\n",
      "1      2     4\n",
      "2      3     3\n",
      "3      4     2\n",
      "4      5     1\n"
     ]
    }
   ],
   "source": [
    "# mengambil subset dari data frame\n",
    "apel = df1.apel\n",
    "print(apel)\n",
    "\n",
    "jeruk_apel = df1[['jeruk', 'apel']]\n",
    "print(jeruk_apel)"
   ]
  },
  {
   "cell_type": "code",
   "execution_count": 5,
   "id": "f06aa16b",
   "metadata": {},
   "outputs": [
    {
     "name": "stdout",
     "output_type": "stream",
     "text": [
      "   apel  jeruk\n",
      "0     5      1\n",
      "1     4      2\n",
      "   apel  jeruk\n",
      "2     3      3\n",
      "3     2      4\n",
      "4     1      5\n"
     ]
    }
   ],
   "source": [
    "# mengambil beberapa baris dari dataFrame\n",
    "print(df1[0:2])\n",
    "print(df1[2:])"
   ]
  },
  {
   "cell_type": "code",
   "execution_count": 6,
   "id": "43faabd2",
   "metadata": {},
   "outputs": [
    {
     "name": "stdout",
     "output_type": "stream",
     "text": [
      "0     True\n",
      "1     True\n",
      "2    False\n",
      "3    False\n",
      "4    False\n",
      "Name: jeruk, dtype: bool\n"
     ]
    }
   ],
   "source": [
    "# perbandingan nilai \n",
    "print(df1['jeruk'] < 3)"
   ]
  },
  {
   "cell_type": "code",
   "execution_count": 7,
   "id": "83b4952f",
   "metadata": {},
   "outputs": [
    {
     "name": "stdout",
     "output_type": "stream",
     "text": [
      "   apel  jeruk\n",
      "0     5      1\n"
     ]
    }
   ],
   "source": [
    "# membaca baris pertama\n",
    "print(df1.head(1))"
   ]
  },
  {
   "cell_type": "code",
   "execution_count": 8,
   "id": "43e43732",
   "metadata": {},
   "outputs": [
    {
     "name": "stdout",
     "output_type": "stream",
     "text": [
      "       0  1  2  3  4\n",
      "apel   5  4  3  2  1\n",
      "jeruk  1  2  3  4  5\n"
     ]
    }
   ],
   "source": [
    "# transapose\n",
    "print(df1.T)"
   ]
  },
  {
   "cell_type": "markdown",
   "id": "41caace2",
   "metadata": {},
   "source": [
    "### index"
   ]
  },
  {
   "cell_type": "code",
   "execution_count": 13,
   "id": "911ccf35",
   "metadata": {},
   "outputs": [
    {
     "name": "stdout",
     "output_type": "stream",
     "text": [
      "apel     2\n",
      "jeruk    4\n",
      "Name: 3, dtype: int64\n",
      "   apel  jeruk\n",
      "1     4      2\n",
      "3     2      4\n",
      "apel    2\n",
      "Name: 3, dtype: int64\n"
     ]
    }
   ],
   "source": [
    "#menggunakan index\n",
    "print(df1.iloc[3])\n",
    "print(df1.iloc[[1,3]])\n",
    "#index 3 kolom 0 / kolom 1 dan 0\n",
    "print(df1.iloc[3, [0]])\n",
    "print(df1.iloc[3, [1,0]])"
   ]
  },
  {
   "cell_type": "code",
   "execution_count": 23,
   "id": "646fca47",
   "metadata": {},
   "outputs": [
    {
     "name": "stdout",
     "output_type": "stream",
     "text": [
      "   apel  jeruk\n",
      "a     5      1\n",
      "b     4      2\n",
      "c     3      3\n",
      "d     2      4\n",
      "e     1      5\n",
      "   apel  jeruk\n",
      "a     5      1\n",
      "c     3      3\n",
      "d     2      4\n",
      "e     1      5\n",
      "   apel  jeruk\n",
      "a     5      1\n",
      "b     4      2\n",
      "c     3      3\n",
      "d     2      4\n",
      "e     1      5\n",
      "   apel  jeruk\n",
      "a     5      1\n",
      "c     3      3\n",
      "d     2      4\n",
      "e     1      5\n",
      "   apel\n",
      "a     5\n",
      "c     3\n",
      "d     2\n",
      "e     1\n"
     ]
    }
   ],
   "source": [
    "dict1 = {'apel' : [5,4,3,2,1], 'jeruk' : [1,2,3,4,5]}\n",
    "df2 = pd.DataFrame(dict1, index = ['a','b', 'c','d', 'e'])\n",
    "print(df2)\n",
    "#menghapus baris\n",
    "df3 = df2.drop('b')\n",
    "print(df3)\n",
    "print(df2)\n",
    "df2.drop('b', inplace = True)\n",
    "print(df2)\n",
    "\n",
    "#menghapus kolom\n",
    "df2.drop('jeruk', axis = 1, inplace=True)\n",
    "print(df2)\n"
   ]
  },
  {
   "cell_type": "code",
   "execution_count": null,
   "id": "c2bb247a",
   "metadata": {},
   "outputs": [],
   "source": [
    "#membuangf data duplicate dan data kosong"
   ]
  }
 ],
 "metadata": {
  "kernelspec": {
   "display_name": "Python 3 (ipykernel)",
   "language": "python",
   "name": "python3"
  },
  "language_info": {
   "codemirror_mode": {
    "name": "ipython",
    "version": 3
   },
   "file_extension": ".py",
   "mimetype": "text/x-python",
   "name": "python",
   "nbconvert_exporter": "python",
   "pygments_lexer": "ipython3",
   "version": "3.9.12"
  }
 },
 "nbformat": 4,
 "nbformat_minor": 5
}
