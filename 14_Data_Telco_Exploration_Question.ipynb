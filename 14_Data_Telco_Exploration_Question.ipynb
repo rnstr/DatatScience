{
  "cells": [
    {
      "cell_type": "markdown",
      "metadata": {
        "id": "view-in-github",
        "colab_type": "text"
      },
      "source": [
        "<a href=\"https://colab.research.google.com/github/rnstr/DatatScience/blob/main/14_Data_Telco_Exploration_Question.ipynb\" target=\"_parent\"><img src=\"https://colab.research.google.com/assets/colab-badge.svg\" alt=\"Open In Colab\"/></a>"
      ]
    },
    {
      "cell_type": "code",
      "source": [
        "from google.colab import drive\n",
        "drive.mount('/content/drive')"
      ],
      "metadata": {
        "colab": {
          "base_uri": "https://localhost:8080/"
        },
        "id": "8Y-dJfdoUDEI",
        "outputId": "d2b07039-cfb5-4431-e36b-173c0a4efe8a"
      },
      "id": "8Y-dJfdoUDEI",
      "execution_count": 1,
      "outputs": [
        {
          "output_type": "stream",
          "name": "stdout",
          "text": [
            "Mounted at /content/drive\n"
          ]
        }
      ]
    },
    {
      "cell_type": "markdown",
      "source": [
        "# Selamat, Anda Seorang Data Scientist!\n",
        "\n",
        "Untuk studi kasus ini, anggap kalian adalah seorang data scientist di sebuah perusahaan telekomunikasi yang terkenal. \n",
        "\n",
        "Dengan berbekal ilmu yang didapat dari kelas Digital Skola, kalian siap untuk menyelesaikan tugas pertama kalian sebagai data scientist.\n",
        "\n",
        "Pada kasus ini, perusahaan meminta kalian untuk mencari tahu karakteristik pelanggan-pelanggan apa saja yang akan kemungkinan _churn_, yakni pelanggan yang tidak akan menggunakan produk kita lagi. \n",
        "\n",
        "Data yang sudah di kumpulkan kemudian diberikan ke kalian untuk diolah. \n",
        "\n",
        "Tujuan utama kalian adalah:\n",
        "\n",
        "1. Mencari karakteristik pelanggan yang berpotensi churn\n",
        "2. Daftar pelanggan dari karakteristik tersebut berupa file excel "
      ],
      "metadata": {
        "id": "VZjTOqVfVXK7"
      },
      "id": "VZjTOqVfVXK7"
    },
    {
      "cell_type": "markdown",
      "source": [
        "## Getting to know data"
      ],
      "metadata": {
        "id": "xlZJEpVLXULi"
      },
      "id": "xlZJEpVLXULi"
    },
    {
      "cell_type": "code",
      "execution_count": null,
      "id": "bcf2e44d",
      "metadata": {
        "id": "bcf2e44d"
      },
      "outputs": [],
      "source": [
        "# import necessary modules\n"
      ]
    },
    {
      "cell_type": "code",
      "execution_count": null,
      "id": "5cfedab1",
      "metadata": {
        "id": "5cfedab1"
      },
      "outputs": [],
      "source": [
        "# load the data\n"
      ]
    },
    {
      "cell_type": "code",
      "execution_count": null,
      "id": "7b5c232d",
      "metadata": {
        "id": "7b5c232d"
      },
      "outputs": [],
      "source": [
        "# check out first few data\n"
      ]
    },
    {
      "cell_type": "code",
      "execution_count": null,
      "id": "033246d6",
      "metadata": {
        "id": "033246d6"
      },
      "outputs": [],
      "source": [
        "# check total data\n"
      ]
    },
    {
      "cell_type": "code",
      "execution_count": null,
      "id": "ac8fa510",
      "metadata": {
        "id": "ac8fa510"
      },
      "outputs": [],
      "source": [
        "# show basic info of the data\n"
      ]
    },
    {
      "cell_type": "markdown",
      "source": [
        "Hmm, ada yang aneh mengenai variabel `TotalCharges`, apa ya?"
      ],
      "metadata": {
        "id": "ZAtaa2XAYSGT"
      },
      "id": "ZAtaa2XAYSGT"
    },
    {
      "cell_type": "markdown",
      "source": [
        "## Getting to Know Variable"
      ],
      "metadata": {
        "id": "sIiEiZf4Xxbk"
      },
      "id": "sIiEiZf4Xxbk"
    },
    {
      "cell_type": "code",
      "source": [
        "# Get unique value of gender \n"
      ],
      "metadata": {
        "id": "gkh-HKkXYLAk"
      },
      "id": "gkh-HKkXYLAk",
      "execution_count": null,
      "outputs": []
    },
    {
      "cell_type": "code",
      "source": [
        "# Get unique value of PaymentMethod\n"
      ],
      "metadata": {
        "id": "zLsdxcHZYlZj"
      },
      "id": "zLsdxcHZYlZj",
      "execution_count": null,
      "outputs": []
    },
    {
      "cell_type": "code",
      "execution_count": null,
      "id": "6c6c7b59",
      "metadata": {
        "id": "6c6c7b59"
      },
      "outputs": [],
      "source": [
        "# get total data per gender\n"
      ]
    },
    {
      "cell_type": "code",
      "execution_count": null,
      "id": "260347b1",
      "metadata": {
        "id": "260347b1"
      },
      "outputs": [],
      "source": [
        "# get total data per PaymentMethod\n"
      ]
    },
    {
      "cell_type": "markdown",
      "source": [
        "`TotalCharges` sekilas berbentuk bilangan real, tapi kenapa pandas anggap sebagai Object?. Coba kita convert!"
      ],
      "metadata": {
        "id": "maDwRuz6ZCiU"
      },
      "id": "maDwRuz6ZCiU"
    },
    {
      "cell_type": "code",
      "execution_count": null,
      "id": "ec6d111c",
      "metadata": {
        "id": "ec6d111c"
      },
      "outputs": [],
      "source": [
        "# TotalCharges found as a object/mix type, not float64, change that\n"
      ]
    },
    {
      "cell_type": "markdown",
      "source": [
        "Ternyata ada data yang kosong, atau mengandung spasi, data apakah itu?"
      ],
      "metadata": {
        "id": "k_L99flVZSKi"
      },
      "id": "k_L99flVZSKi"
    },
    {
      "cell_type": "code",
      "source": [
        "# find column in TotalCharges that have ''"
      ],
      "metadata": {
        "id": "_KUU-OZ0ZZf1"
      },
      "id": "_KUU-OZ0ZZf1",
      "execution_count": null,
      "outputs": []
    },
    {
      "cell_type": "markdown",
      "source": [
        "Apa yang harus kita lakukan? Biasanya tergantung pada konteks project. Kita bisa:\n",
        "1. Mengisi dengan data rata-rata\n",
        "2. Menghapus data (kalau sedikit)\n",
        "3. Mengisi dengan suatu nilai default\n",
        "\n",
        "Untuk kasus ini, mari kita isi dengan nilai 0, dan coba konversi ke _float_ kembali."
      ],
      "metadata": {
        "id": "IcUZ2epPZqqE"
      },
      "id": "IcUZ2epPZqqE"
    },
    {
      "cell_type": "code",
      "source": [
        ""
      ],
      "metadata": {
        "id": "tCZed68qZqCS"
      },
      "id": "tCZed68qZqCS",
      "execution_count": null,
      "outputs": []
    },
    {
      "cell_type": "code",
      "execution_count": null,
      "id": "0263e659",
      "metadata": {
        "id": "0263e659"
      },
      "outputs": [],
      "source": [
        "# use describe to show statistics of numerical column in df\n"
      ]
    },
    {
      "cell_type": "markdown",
      "source": [
        "## Relasi Terhadap Churn\n",
        "Kita akan melihat secara independent setiap variabel, mana yang memiliki presentase churn yang banyak sebagai sebuah karakterstik grup tersebut."
      ],
      "metadata": {
        "id": "5DxWYWo2aGBH"
      },
      "id": "5DxWYWo2aGBH"
    },
    {
      "cell_type": "code",
      "execution_count": null,
      "id": "16697745",
      "metadata": {
        "id": "16697745"
      },
      "outputs": [],
      "source": [
        "# distribution of gender + churn (in percentage)\n"
      ]
    },
    {
      "cell_type": "markdown",
      "source": [
        "Apakah ada pola yang menonjol?"
      ],
      "metadata": {
        "id": "PUK8Eulhadcy"
      },
      "id": "PUK8Eulhadcy"
    },
    {
      "cell_type": "code",
      "execution_count": null,
      "id": "62419168",
      "metadata": {
        "id": "62419168"
      },
      "outputs": [],
      "source": [
        "# distribution of PaymentMethod + churn (in percentage)\n"
      ]
    },
    {
      "cell_type": "markdown",
      "source": [
        "Apakah ada pola yang menonjol?"
      ],
      "metadata": {
        "id": "ZxFocXj7aluy"
      },
      "id": "ZxFocXj7aluy"
    },
    {
      "cell_type": "code",
      "execution_count": null,
      "id": "360dd87a",
      "metadata": {
        "id": "360dd87a"
      },
      "outputs": [],
      "source": [
        "# top 10 customer id with highest MonthlyCharges\n"
      ]
    },
    {
      "cell_type": "code",
      "execution_count": null,
      "id": "a6c43f8e",
      "metadata": {
        "id": "a6c43f8e"
      },
      "outputs": [],
      "source": [
        "# get the mean of MonthlyCharges\n"
      ]
    },
    {
      "cell_type": "code",
      "execution_count": null,
      "id": "edadf8b2",
      "metadata": {
        "id": "edadf8b2"
      },
      "outputs": [],
      "source": [
        "# create tier based on MonthlyCharges based on average, whether below or above average\n"
      ]
    },
    {
      "cell_type": "code",
      "execution_count": null,
      "id": "4f99993d",
      "metadata": {
        "id": "4f99993d"
      },
      "outputs": [],
      "source": [
        "# group based on new info, tier of monthly charges and churn\n"
      ]
    },
    {
      "cell_type": "markdown",
      "source": [
        "Apakah ada pola yang menonjol?"
      ],
      "metadata": {
        "id": "nvHcRFTXbc-q"
      },
      "id": "nvHcRFTXbc-q"
    },
    {
      "cell_type": "markdown",
      "source": [
        "Untuk `TotalCharges`, dengan asumsi bahwa variabel ini adalah akumulasi total transaksi keseluruhan, maka kita bisa mendapatkan total durasi pelanggan bersama kita dengan membaginya dengan `MonthlyCharges`."
      ],
      "metadata": {
        "id": "ZJR-KWsWbipu"
      },
      "id": "ZJR-KWsWbipu"
    },
    {
      "cell_type": "code",
      "execution_count": null,
      "id": "be84ebf5",
      "metadata": {
        "id": "be84ebf5"
      },
      "outputs": [],
      "source": [
        "# Assuming total Charges is represent duration of monthly charges, we could reverse calculated the duration\n"
      ]
    },
    {
      "cell_type": "code",
      "execution_count": null,
      "id": "2dc76c32",
      "metadata": {
        "id": "2dc76c32"
      },
      "outputs": [],
      "source": [
        "# describe duration information\n"
      ]
    },
    {
      "cell_type": "code",
      "execution_count": null,
      "id": "0c690559",
      "metadata": {
        "id": "0c690559"
      },
      "outputs": [],
      "source": [
        "# create tier of duration based on it's QIR (quarter interval range)\n"
      ]
    },
    {
      "cell_type": "code",
      "execution_count": null,
      "id": "38fbe38f",
      "metadata": {
        "id": "38fbe38f"
      },
      "outputs": [],
      "source": [
        "# get distribution of DurationStatus + churn\n"
      ]
    },
    {
      "cell_type": "markdown",
      "source": [
        "Apakah ada pola yang menonjol?"
      ],
      "metadata": {
        "id": "adYoWEt3cJwE"
      },
      "id": "adYoWEt3cJwE"
    },
    {
      "cell_type": "markdown",
      "source": [
        "## Kesimpulan\n",
        "Dari analisa yang sudah kita lakukan, maka terdapat karakteristik yang cukup menonjol dari pelanggan yang churn, yakni:\n",
        "1. Tipe pembayaran adalah \n",
        "2. Status bayaran bulanannya adalah\n",
        "3. Status durasinya adalah\n",
        "\n",
        "Nice! Kalian sudah menjawab pertanyaan (1) dengan data ala seorang data scientist.\n",
        "\n",
        "Selanjutnya, kita tinggal mengexport data yang sesuai dengan kriteria tersebut ke dalam sebuah excel untuk dilaporkan!"
      ],
      "metadata": {
        "id": "-wubUVdZcNiB"
      },
      "id": "-wubUVdZcNiB"
    },
    {
      "cell_type": "code",
      "execution_count": null,
      "id": "7da46ce9",
      "metadata": {
        "id": "7da46ce9"
      },
      "outputs": [],
      "source": [
        ""
      ]
    },
    {
      "cell_type": "code",
      "execution_count": null,
      "id": "e36f76b1",
      "metadata": {
        "id": "e36f76b1"
      },
      "outputs": [],
      "source": [
        ""
      ]
    }
  ],
  "metadata": {
    "kernelspec": {
      "display_name": "Python 3 (ipykernel)",
      "language": "python",
      "name": "python3"
    },
    "language_info": {
      "codemirror_mode": {
        "name": "ipython",
        "version": 3
      },
      "file_extension": ".py",
      "mimetype": "text/x-python",
      "name": "python",
      "nbconvert_exporter": "python",
      "pygments_lexer": "ipython3",
      "version": "3.9.7"
    },
    "colab": {
      "name": "14 - Data Telco Exploration Question.ipynb",
      "provenance": [],
      "collapsed_sections": [],
      "include_colab_link": true
    }
  },
  "nbformat": 4,
  "nbformat_minor": 5
}